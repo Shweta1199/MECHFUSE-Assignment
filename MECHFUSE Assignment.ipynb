{
 "cells": [
  {
   "cell_type": "markdown",
   "metadata": {},
   "source": [
    "### Question: \n",
    "Make a python script which fetches the App reviews(500 latest ones) for any app that you like and do a basic sentiment analysis on those reviews?\n"
   ]
  },
  {
   "cell_type": "code",
   "execution_count": 1,
   "metadata": {},
   "outputs": [],
   "source": [
    "from urllib import response\n",
    "import requests\n",
    "from bs4 import BeautifulSoup"
   ]
  },
  {
   "cell_type": "code",
   "execution_count": 2,
   "metadata": {},
   "outputs": [],
   "source": [
    "url=\"https://play.google.com/store/apps/details?id=com.instagram.android&hl=en_IN&gl=US\"\n",
    "r=requests.get(url)\n",
    "\n",
    "soup= BeautifulSoup(r.content,\"html.parser\")\n"
   ]
  },
  {
   "cell_type": "code",
   "execution_count": 3,
   "metadata": {},
   "outputs": [
    {
     "name": "stdout",
     "output_type": "stream",
     "text": [
      "[\"Very glitchy app. Sometimes, when I have dark mode enabled, some pages will remain white and they still have the white text. Having white text on white background makes it unreadable. And when I receive DM, the send button is not available. I have to leave my DM and go back for the send button to be available. I've been having these problems for months and it hasn't been fixed.\", 'This app is Horrible. But all my friends are on it, so- oh! Also bad for artists who don\\'t animate on a regular basis. Everything is a \"Reel\" now, at an attempt to copy tiktok, and you\\'ll only ever see videos in your feed aside from the occasional advertisement. If you do have the option I would suggest literally almost any other app that doesn\\'t tie in with Facebook.', \"Like the majority of people, I deleted the app to take a break and came back to it not working at all. After weeks of deleting, re-downloading, reseting, ect. I still can't get it to work. When I open the app, the logo shows up then it goes black and doesn't work. It seems there is no possible way to fix this unless instagram does something about it. I miss connecting with my friends and I have probably lost a few over this because it was our only way to communicate. Instagram please fix this!🙏\"]\n"
     ]
    }
   ],
   "source": [
    "reviews_list=[]\n",
    "reviews=soup.find_all('div',class_='h3YV2d')\n",
    "for i in reviews:\n",
    "    r=i.text\n",
    "    reviews_list.append(r)\n",
    "print(reviews_list)"
   ]
  }
 ],
 "metadata": {
  "kernelspec": {
   "display_name": "Python 3 (ipykernel)",
   "language": "python",
   "name": "python3"
  },
  "language_info": {
   "codemirror_mode": {
    "name": "ipython",
    "version": 3
   },
   "file_extension": ".py",
   "mimetype": "text/x-python",
   "name": "python",
   "nbconvert_exporter": "python",
   "pygments_lexer": "ipython3",
   "version": "3.8.5"
  }
 },
 "nbformat": 4,
 "nbformat_minor": 4
}
